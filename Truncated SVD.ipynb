{
 "cells": [
  {
   "cell_type": "code",
   "execution_count": 1,
   "metadata": {},
   "outputs": [],
   "source": [
    "import pandas as pd\n",
    "from sklearn.feature_extraction.text import TfidfVectorizer\n",
    "from sklearn.decomposition import TruncatedSVD\n"
   ]
  },
  {
   "cell_type": "code",
   "execution_count": 2,
   "metadata": {},
   "outputs": [],
   "source": [
    "df_En=pd.read_csv(\"preprocessed_data_en.csv\")\n",
    "df_De=pd.read_csv(\"preprocessed_data_de.csv\")"
   ]
  },
  {
   "cell_type": "code",
   "execution_count": 3,
   "metadata": {},
   "outputs": [
    {
     "name": "stdout",
     "output_type": "stream",
     "text": [
      "(2406, 3281)\n",
      "(3877, 5244)\n"
     ]
    }
   ],
   "source": [
    "vectorizer_En = TfidfVectorizer(input= 'preprocessed_data_en.csv', smooth_idf=True)\n",
    "vectorizer_De = TfidfVectorizer(input= 'preprocessed_data_de.csv',smooth_idf=True)\n",
    "\n",
    "df_En[\"text_lemmatization\"]=df_En[\"text_lemmatization\"].fillna(\"\")\n",
    "df_De[\"text_lemmatization\"]=df_De[\"text_lemmatization\"].fillna(\"\")\n",
    "\n",
    "X_En = vectorizer_En.fit_transform(df_En[\"text_lemmatization\"])\n",
    "X_De = vectorizer_De.fit_transform(df_De[\"text_lemmatization\"])\n",
    "\n",
    "\n",
    "print(X_En.shape) # check shape of the document-term matrix\n",
    "print(X_De.shape)"
   ]
  },
  {
   "cell_type": "markdown",
   "metadata": {},
   "source": [
    "# English data"
   ]
  },
  {
   "cell_type": "code",
   "execution_count": 4,
   "metadata": {},
   "outputs": [
    {
     "data": {
      "text/plain": [
       "array([[ 0.15142065, -0.05307252, -0.06952288, ...,  0.06067309,\n",
       "        -0.07069957,  0.0393933 ],\n",
       "       [ 0.23148472, -0.15643483,  0.07502752, ...,  0.1571974 ,\n",
       "        -0.05514851,  0.03897916],\n",
       "       [ 0.18632449, -0.13014447, -0.06111916, ...,  0.06289895,\n",
       "        -0.09235059,  0.07498092],\n",
       "       ...,\n",
       "       [ 0.19483022, -0.1974531 ,  0.01709883, ...,  0.09640559,\n",
       "         0.02588503, -0.02635655],\n",
       "       [ 0.09834024, -0.19830244, -0.08459287, ..., -0.07056232,\n",
       "        -0.01687574, -0.02094841],\n",
       "       [ 0.13316825, -0.03313369, -0.06094939, ...,  0.02055697,\n",
       "        -0.01967723,  0.03530532]])"
      ]
     },
     "execution_count": 4,
     "metadata": {},
     "output_type": "execute_result"
    }
   ],
   "source": [
    "# TruncatedSVD\n",
    "n_components_En = 7    # Set the number of topics to 7\n",
    "svd_model_En = TruncatedSVD(n_components_En, algorithm='randomized', n_iter=100, random_state=1) \n",
    "X_topics_En = svd_model_En.fit_transform(X_En)\n",
    "X_topics_En"
   ]
  },
  {
   "cell_type": "code",
   "execution_count": 5,
   "metadata": {},
   "outputs": [
    {
     "data": {
      "text/plain": [
       "(2406, 7)"
      ]
     },
     "execution_count": 5,
     "metadata": {},
     "output_type": "execute_result"
    }
   ],
   "source": [
    "X_topics_En.shape # X_topics_En with a scale of N*T (number of ticket's samples, number of topics)"
   ]
  },
  {
   "cell_type": "code",
   "execution_count": 6,
   "metadata": {},
   "outputs": [
    {
     "name": "stdout",
     "output_type": "stream",
     "text": [
      "Topic 0:\n",
      "client | reset | gbi | user | hana | password | \n",
      "\n",
      "Topic 1:\n",
      "client | date | contract | team | gbi | provision | \n",
      "\n",
      "Topic 2:\n",
      "reset | master | password | client | account | many | \n",
      "\n",
      "Topic 3:\n",
      "key | generate | user | i78 | mandant | developer | \n",
      "\n",
      "Topic 4:\n",
      "password | master | account | hana | user | date | \n",
      "\n",
      "Topic 5:\n",
      "gbi | version | upgrade | case | study | master | \n",
      "\n",
      "Topic 6:\n",
      "saprouter | connection | server | client | router | message | \n",
      "\n"
     ]
    }
   ],
   "source": [
    "# Select 6 keywords of each topic.\n",
    "for i, comp in enumerate(svd_model_En.components_):\n",
    "    terms_En= vectorizer_En.get_feature_names()\n",
    "    terms_comp_En = zip(terms_En, comp)\n",
    "    sorted_terms_En = sorted(terms_comp_En, key= lambda x:x[1], reverse=True)[:6]\n",
    "    print(\"Topic %d:\" % i)\n",
    "\n",
    "    for t in sorted_terms_En:      \n",
    "        print(t[0],end=' | ')\n",
    "    print()\n",
    "    print()"
   ]
  },
  {
   "cell_type": "markdown",
   "metadata": {},
   "source": [
    "# German data"
   ]
  },
  {
   "cell_type": "code",
   "execution_count": 7,
   "metadata": {},
   "outputs": [
    {
     "data": {
      "text/plain": [
       "array([[ 0.07221025, -0.06295314,  0.02717152, ...,  0.08408536,\n",
       "        -0.10850394,  0.11897484],\n",
       "       [ 0.09043899, -0.04350017,  0.04044593, ...,  0.01676354,\n",
       "        -0.01232909, -0.002909  ],\n",
       "       [ 0.10037089, -0.06373563, -0.02441942, ...,  0.00706635,\n",
       "        -0.02496967, -0.03147897],\n",
       "       ...,\n",
       "       [ 0.10175984, -0.06961609,  0.00137862, ...,  0.02309904,\n",
       "        -0.03254945, -0.05368077],\n",
       "       [ 0.16525203, -0.013086  , -0.1211014 , ..., -0.02681615,\n",
       "        -0.04429496, -0.00196059],\n",
       "       [ 0.10720338, -0.05100082,  0.08356271, ..., -0.00820548,\n",
       "         0.03215703,  0.04041778]])"
      ]
     },
     "execution_count": 7,
     "metadata": {},
     "output_type": "execute_result"
    }
   ],
   "source": [
    "# TruncatedSVD\n",
    "n_components_De = 7\n",
    "svd_model_De = TruncatedSVD(n_components_De, algorithm='randomized', n_iter=100, random_state=1) \n",
    "svd_model_De.fit(X_De)\n",
    "X_topics_De = svd_model_De.fit_transform(X_De)\n",
    "X_topics_De"
   ]
  },
  {
   "cell_type": "code",
   "execution_count": 8,
   "metadata": {},
   "outputs": [
    {
     "data": {
      "text/plain": [
       "(3877, 7)"
      ]
     },
     "execution_count": 8,
     "metadata": {},
     "output_type": "execute_result"
    }
   ],
   "source": [
    "X_topics_De.shape # X_topics_De with a scale of N*T (number of ticket's samples, number of topics)"
   ]
  },
  {
   "cell_type": "code",
   "execution_count": 9,
   "metadata": {},
   "outputs": [
    {
     "name": "stdout",
     "output_type": "stream",
     "text": [
      "Topic 0:\n",
      "mandanten | user | zurücksetzen | gbi | mandant | team | \n",
      "\n",
      "Topic 1:\n",
      "zurücksetzen | mandanten | mandant | i20 | hiermit | bitten | \n",
      "\n",
      "Topic 2:\n",
      "niklas | grüsse | gut | können | genannt | bestätigung | \n",
      "\n",
      "Topic 3:\n",
      "user | niklas | grüsse | passwort | gut | können | \n",
      "\n",
      "Topic 4:\n",
      "mandantenrücksetzung | schulung | sperren | mandant | i45 | i16 | \n",
      "\n",
      "Topic 5:\n",
      "mandantenrücksetzung | schulung | gbi | user | sperren | i16 | \n",
      "\n",
      "Topic 6:\n",
      "gbi | hana | vg | zurücksetzen | i81 | können | \n",
      "\n"
     ]
    }
   ],
   "source": [
    "# Select 6 keywords of each topic.\n",
    "for i, comp in enumerate(svd_model_De.components_):\n",
    "    terms_De= vectorizer_De.get_feature_names()\n",
    "    terms_comp_De = zip(terms_De, comp)\n",
    "    sorted_terms_De = sorted(terms_comp_De, key= lambda x:x[1], reverse=True)[:6]\n",
    "    print(\"Topic %d:\" % i)\n",
    "\n",
    "    for t in sorted_terms_De:      \n",
    "        print(t[0],end=' | ')\n",
    "    print()\n",
    "    print()"
   ]
  },
  {
   "cell_type": "code",
   "execution_count": null,
   "metadata": {},
   "outputs": [],
   "source": []
  }
 ],
 "metadata": {
  "kernelspec": {
   "display_name": "Python 3",
   "language": "python",
   "name": "python3"
  },
  "language_info": {
   "codemirror_mode": {
    "name": "ipython",
    "version": 3
   },
   "file_extension": ".py",
   "mimetype": "text/x-python",
   "name": "python",
   "nbconvert_exporter": "python",
   "pygments_lexer": "ipython3",
   "version": "3.7.7"
  },
  "toc": {
   "base_numbering": 1,
   "nav_menu": {},
   "number_sections": true,
   "sideBar": true,
   "skip_h1_title": false,
   "title_cell": "Table of Contents",
   "title_sidebar": "Contents",
   "toc_cell": false,
   "toc_position": {},
   "toc_section_display": true,
   "toc_window_display": false
  }
 },
 "nbformat": 4,
 "nbformat_minor": 4
}
