{
 "cells": [
  {
   "cell_type": "code",
   "execution_count": 2,
   "metadata": {},
   "outputs": [],
   "source": [
    "import numpy as np \n",
    "import pandas as pd\n",
    "import gensim\n",
    "from gensim import corpora, models, similarities\n",
    "from sklearn.feature_extraction.text import TfidfVectorizer\n",
    "from sklearn.decomposition import LatentDirichletAllocation\n",
    "from IPython.display import Image"
   ]
  },
  {
   "cell_type": "code",
   "execution_count": 3,
   "metadata": {},
   "outputs": [],
   "source": [
    "df_En=pd.read_csv(\"preprocessed_data_en.csv\")\n",
    "df_De=pd.read_csv(\"preprocessed_data_de.csv\")"
   ]
  },
  {
   "cell_type": "code",
   "execution_count": 4,
   "metadata": {},
   "outputs": [
    {
     "data": {
      "text/html": [
       "<div>\n",
       "<style scoped>\n",
       "    .dataframe tbody tr th:only-of-type {\n",
       "        vertical-align: middle;\n",
       "    }\n",
       "\n",
       "    .dataframe tbody tr th {\n",
       "        vertical-align: top;\n",
       "    }\n",
       "\n",
       "    .dataframe thead th {\n",
       "        text-align: right;\n",
       "    }\n",
       "</style>\n",
       "<table border=\"1\" class=\"dataframe\">\n",
       "  <thead>\n",
       "    <tr style=\"text-align: right;\">\n",
       "      <th></th>\n",
       "      <th>Nachrichtentyp</th>\n",
       "      <th>Datun</th>\n",
       "      <th>Uhrzeit</th>\n",
       "      <th>Absender</th>\n",
       "      <th>Ort</th>\n",
       "      <th>Text</th>\n",
       "      <th>ID</th>\n",
       "      <th>text_wo_seinfo</th>\n",
       "      <th>text_wo_seinfo_wo_enter</th>\n",
       "      <th>text_wo_seinfo_wo_enter_lower</th>\n",
       "      <th>text_wo_seinfo_wo_enter_lower_wo_punct</th>\n",
       "      <th>text_wo_seinfo_wo_enter_lower_wo_punct_wo_stop</th>\n",
       "      <th>text_wo_seinfo_wo_enter_lower_wo_punct_wo_stoptext_wo_stopfreq</th>\n",
       "      <th>text_wo_seinfo_wo_enter_lower_wo_punct_wo_stoptext_wo_stopfreq_wo_stopfreqrare</th>\n",
       "      <th>text_wo_seinfo_wo_enter_lower_wo_punct_wo_stoptext_wo_stopfreq_wo_stopfreqrare_wo_num</th>\n",
       "      <th>text_wo_seinfo_wo_enter_lower_wo_punct_wo_stoptext_wo_stopfreq_wo_stopfreqrare_wo_num_wo_numbeginn</th>\n",
       "      <th>language</th>\n",
       "      <th>text_stemmed</th>\n",
       "      <th>text_lemmatization</th>\n",
       "    </tr>\n",
       "  </thead>\n",
       "  <tbody>\n",
       "    <tr>\n",
       "      <th>0</th>\n",
       "      <td>Beschreibung</td>\n",
       "      <td>2015.12.03</td>\n",
       "      <td>15:03:07</td>\n",
       "      <td>U2GB007PA1</td>\n",
       "      <td>&lt;LOCATION&gt;</td>\n",
       "      <td>One of our Instructors, &lt;PERSON16&gt; with U-User...</td>\n",
       "      <td>2000000090</td>\n",
       "      <td>One of our Instructors,  with U-User ID U2GB00...</td>\n",
       "      <td>One of our Instructors,  with U-User ID U2GB00...</td>\n",
       "      <td>one of our instructors,  with u-user id u2gb00...</td>\n",
       "      <td>one of our instructors   with u user id u2gb00...</td>\n",
       "      <td>one instructors u user id u2gb007am2 logged sa...</td>\n",
       "      <td>instructors u user id u2gb007am2 logged emea p...</td>\n",
       "      <td>instructors u user id u2gb007am2 logged emea p...</td>\n",
       "      <td>instructors u user id u2gb007am2 logged emea p...</td>\n",
       "      <td>instructors u user id u2gb007am2 logged emea p...</td>\n",
       "      <td>en</td>\n",
       "      <td>instructor u user id u2gb007am2 log emea porta...</td>\n",
       "      <td>instructor u user -PRON- would u2gb007am2 log ...</td>\n",
       "    </tr>\n",
       "    <tr>\n",
       "      <th>1</th>\n",
       "      <td>Beschreibung</td>\n",
       "      <td>2015.12.03</td>\n",
       "      <td>18:37:16</td>\n",
       "      <td>U2GB007PA1</td>\n",
       "      <td>&lt;LOCATION&gt;</td>\n",
       "      <td>One of our Instructors, &lt;PERSON16&gt; with U-User...</td>\n",
       "      <td>2000000094</td>\n",
       "      <td>One of our Instructors,  with U-User ID U2GB00...</td>\n",
       "      <td>One of our Instructors,  with U-User ID U2GB00...</td>\n",
       "      <td>one of our instructors,  with u-user id u2gb00...</td>\n",
       "      <td>one of our instructors   with u user id u2gb00...</td>\n",
       "      <td>one instructors u user id u2gb007am2 longer lo...</td>\n",
       "      <td>instructors u user id u2gb007am2 longer login ...</td>\n",
       "      <td>instructors u user id u2gb007am2 longer login ...</td>\n",
       "      <td>instructors u user id u2gb007am2 longer login ...</td>\n",
       "      <td>instructors u user id u2gb007am2 longer login ...</td>\n",
       "      <td>en</td>\n",
       "      <td>instructor u user id u2gb007am2 longer login e...</td>\n",
       "      <td>instructor u user -PRON- would u2gb007am2 long...</td>\n",
       "    </tr>\n",
       "    <tr>\n",
       "      <th>2</th>\n",
       "      <td>Beschreibung</td>\n",
       "      <td>2015.12.15</td>\n",
       "      <td>15:04:14</td>\n",
       "      <td>U2GB007PA1</td>\n",
       "      <td>&lt;LOCATION&gt;</td>\n",
       "      <td>This is in relation to my ongoing efforts to g...</td>\n",
       "      <td>2000000120</td>\n",
       "      <td>This is in relation to my ongoing efforts to g...</td>\n",
       "      <td>This is in relation to my ongoing efforts to g...</td>\n",
       "      <td>this is in relation to my ongoing efforts to g...</td>\n",
       "      <td>this is in relation to my ongoing efforts to g...</td>\n",
       "      <td>relation ongoing efforts get instructor able u...</td>\n",
       "      <td>relation ongoing efforts instructor able servi...</td>\n",
       "      <td>relation instructor able service desk via emea...</td>\n",
       "      <td>relation instructor able service desk via emea...</td>\n",
       "      <td>relation instructor able service desk via emea...</td>\n",
       "      <td>en</td>\n",
       "      <td>relat instructor abl servic desk via emea port...</td>\n",
       "      <td>relation instructor able service desk via emea...</td>\n",
       "    </tr>\n",
       "    <tr>\n",
       "      <th>3</th>\n",
       "      <td>Beschreibung</td>\n",
       "      <td>2015.12.15</td>\n",
       "      <td>15:19:39</td>\n",
       "      <td>U2GB007PA1</td>\n",
       "      <td>&lt;LOCATION&gt;</td>\n",
       "      <td>I would like instructor &lt;PERSON23&gt; who is regi...</td>\n",
       "      <td>2000000121</td>\n",
       "      <td>I would like instructor  who is registered on ...</td>\n",
       "      <td>I would like instructor  who is registered on ...</td>\n",
       "      <td>i would like instructor  who is registered on ...</td>\n",
       "      <td>i would like instructor  who is registered on ...</td>\n",
       "      <td>would like instructor registered courses able ...</td>\n",
       "      <td>instructor registered courses able access serv...</td>\n",
       "      <td>instructor registered courses able access serv...</td>\n",
       "      <td>instructor registered courses able access serv...</td>\n",
       "      <td>instructor registered courses able access serv...</td>\n",
       "      <td>en</td>\n",
       "      <td>instructor regist cours abl access servic desk...</td>\n",
       "      <td>instructor register course able access service...</td>\n",
       "    </tr>\n",
       "    <tr>\n",
       "      <th>4</th>\n",
       "      <td>Beschreibung</td>\n",
       "      <td>2015.12.15</td>\n",
       "      <td>23:33:59</td>\n",
       "      <td>SMB_I4000001</td>\n",
       "      <td>&lt;LOCATION&gt;</td>\n",
       "      <td>Hello from SAPGui on system I40\\n(&lt;LOCATION18&gt;...</td>\n",
       "      <td>2000000123</td>\n",
       "      <td>Hello from SAPGui on system I40\\n()~Pimpgang!~</td>\n",
       "      <td>Hello from SAPGui on system I40 ()~Pimpgang!~</td>\n",
       "      <td>hello from sapgui on system i40 ()~pimpgang!~</td>\n",
       "      <td>hello from sapgui on system i40    pimpgang</td>\n",
       "      <td>hello sapgui system i40 pimpgang</td>\n",
       "      <td>sapgui i40 pimpgang</td>\n",
       "      <td>sapgui i40</td>\n",
       "      <td>sapgui i40</td>\n",
       "      <td>sapgui i40</td>\n",
       "      <td>en</td>\n",
       "      <td>sapgui i40</td>\n",
       "      <td>sapgui i40</td>\n",
       "    </tr>\n",
       "  </tbody>\n",
       "</table>\n",
       "</div>"
      ],
      "text/plain": [
       "  Nachrichtentyp       Datun   Uhrzeit      Absender         Ort  \\\n",
       "0  Beschreibung   2015.12.03  15:03:07    U2GB007PA1  <LOCATION>   \n",
       "1  Beschreibung   2015.12.03  18:37:16    U2GB007PA1  <LOCATION>   \n",
       "2  Beschreibung   2015.12.15  15:04:14    U2GB007PA1  <LOCATION>   \n",
       "3  Beschreibung   2015.12.15  15:19:39    U2GB007PA1  <LOCATION>   \n",
       "4  Beschreibung   2015.12.15  23:33:59  SMB_I4000001  <LOCATION>   \n",
       "\n",
       "                                                Text          ID  \\\n",
       "0  One of our Instructors, <PERSON16> with U-User...  2000000090   \n",
       "1  One of our Instructors, <PERSON16> with U-User...  2000000094   \n",
       "2  This is in relation to my ongoing efforts to g...  2000000120   \n",
       "3  I would like instructor <PERSON23> who is regi...  2000000121   \n",
       "4  Hello from SAPGui on system I40\\n(<LOCATION18>...  2000000123   \n",
       "\n",
       "                                      text_wo_seinfo  \\\n",
       "0  One of our Instructors,  with U-User ID U2GB00...   \n",
       "1  One of our Instructors,  with U-User ID U2GB00...   \n",
       "2  This is in relation to my ongoing efforts to g...   \n",
       "3  I would like instructor  who is registered on ...   \n",
       "4     Hello from SAPGui on system I40\\n()~Pimpgang!~   \n",
       "\n",
       "                             text_wo_seinfo_wo_enter  \\\n",
       "0  One of our Instructors,  with U-User ID U2GB00...   \n",
       "1  One of our Instructors,  with U-User ID U2GB00...   \n",
       "2  This is in relation to my ongoing efforts to g...   \n",
       "3  I would like instructor  who is registered on ...   \n",
       "4      Hello from SAPGui on system I40 ()~Pimpgang!~   \n",
       "\n",
       "                       text_wo_seinfo_wo_enter_lower  \\\n",
       "0  one of our instructors,  with u-user id u2gb00...   \n",
       "1  one of our instructors,  with u-user id u2gb00...   \n",
       "2  this is in relation to my ongoing efforts to g...   \n",
       "3  i would like instructor  who is registered on ...   \n",
       "4      hello from sapgui on system i40 ()~pimpgang!~   \n",
       "\n",
       "              text_wo_seinfo_wo_enter_lower_wo_punct  \\\n",
       "0  one of our instructors   with u user id u2gb00...   \n",
       "1  one of our instructors   with u user id u2gb00...   \n",
       "2  this is in relation to my ongoing efforts to g...   \n",
       "3  i would like instructor  who is registered on ...   \n",
       "4      hello from sapgui on system i40    pimpgang     \n",
       "\n",
       "      text_wo_seinfo_wo_enter_lower_wo_punct_wo_stop  \\\n",
       "0  one instructors u user id u2gb007am2 logged sa...   \n",
       "1  one instructors u user id u2gb007am2 longer lo...   \n",
       "2  relation ongoing efforts get instructor able u...   \n",
       "3  would like instructor registered courses able ...   \n",
       "4                   hello sapgui system i40 pimpgang   \n",
       "\n",
       "  text_wo_seinfo_wo_enter_lower_wo_punct_wo_stoptext_wo_stopfreq  \\\n",
       "0  instructors u user id u2gb007am2 logged emea p...               \n",
       "1  instructors u user id u2gb007am2 longer login ...               \n",
       "2  relation ongoing efforts instructor able servi...               \n",
       "3  instructor registered courses able access serv...               \n",
       "4                                sapgui i40 pimpgang               \n",
       "\n",
       "  text_wo_seinfo_wo_enter_lower_wo_punct_wo_stoptext_wo_stopfreq_wo_stopfreqrare  \\\n",
       "0  instructors u user id u2gb007am2 logged emea p...                               \n",
       "1  instructors u user id u2gb007am2 longer login ...                               \n",
       "2  relation instructor able service desk via emea...                               \n",
       "3  instructor registered courses able access serv...                               \n",
       "4                                         sapgui i40                               \n",
       "\n",
       "  text_wo_seinfo_wo_enter_lower_wo_punct_wo_stoptext_wo_stopfreq_wo_stopfreqrare_wo_num  \\\n",
       "0  instructors u user id u2gb007am2 logged emea p...                                      \n",
       "1  instructors u user id u2gb007am2 longer login ...                                      \n",
       "2  relation instructor able service desk via emea...                                      \n",
       "3  instructor registered courses able access serv...                                      \n",
       "4                                         sapgui i40                                      \n",
       "\n",
       "  text_wo_seinfo_wo_enter_lower_wo_punct_wo_stoptext_wo_stopfreq_wo_stopfreqrare_wo_num_wo_numbeginn  \\\n",
       "0  instructors u user id u2gb007am2 logged emea p...                                                   \n",
       "1  instructors u user id u2gb007am2 longer login ...                                                   \n",
       "2  relation instructor able service desk via emea...                                                   \n",
       "3  instructor registered courses able access serv...                                                   \n",
       "4                                         sapgui i40                                                   \n",
       "\n",
       "  language                                       text_stemmed  \\\n",
       "0       en  instructor u user id u2gb007am2 log emea porta...   \n",
       "1       en  instructor u user id u2gb007am2 longer login e...   \n",
       "2       en  relat instructor abl servic desk via emea port...   \n",
       "3       en  instructor regist cours abl access servic desk...   \n",
       "4       en                                         sapgui i40   \n",
       "\n",
       "                                  text_lemmatization  \n",
       "0  instructor u user -PRON- would u2gb007am2 log ...  \n",
       "1  instructor u user -PRON- would u2gb007am2 long...  \n",
       "2  relation instructor able service desk via emea...  \n",
       "3  instructor register course able access service...  \n",
       "4                                         sapgui i40  "
      ]
     },
     "execution_count": 4,
     "metadata": {},
     "output_type": "execute_result"
    }
   ],
   "source": [
    "df_En.head()"
   ]
  },
  {
   "cell_type": "code",
   "execution_count": 5,
   "metadata": {},
   "outputs": [],
   "source": [
    "df_En[\"text_lemmatization\"] = df_En[\"text_lemmatization\"].fillna(\"\")\n",
    "df_De[\"text_lemmatization\"] = df_De[\"text_lemmatization\"].fillna(\"\")"
   ]
  },
  {
   "cell_type": "markdown",
   "metadata": {},
   "source": [
    "# English Data"
   ]
  },
  {
   "cell_type": "markdown",
   "metadata": {},
   "source": [
    "## Tf-idf vectorizer"
   ]
  },
  {
   "cell_type": "code",
   "execution_count": 6,
   "metadata": {},
   "outputs": [
    {
     "data": {
      "text/plain": [
       "(2406, 1000)"
      ]
     },
     "execution_count": 6,
     "metadata": {},
     "output_type": "execute_result"
    }
   ],
   "source": [
    "vectorizer = TfidfVectorizer(max_features= 1000, max_df = 0.5, smooth_idf=True)\n",
    "\n",
    "X = vectorizer.fit_transform(df_En[\"text_lemmatization\"])\n",
    "\n",
    "X.shape # check shape of the document-term matrix"
   ]
  },
  {
   "cell_type": "markdown",
   "metadata": {},
   "source": [
    "## LDA Model"
   ]
  },
  {
   "cell_type": "markdown",
   "metadata": {},
   "source": [
    "Latent Dirichlet Allocation (LDA) is a generative statistical model that allows sets of observations to be explained by unobserved groups that explain why some parts of the data are similar. For example, if observations are words collected into documents, it posits that each document is a mixture of a small number of topics and that each word's presence is attributable to one of the document's topics. LDA is an example of a topic model and belongs to the machine learning field and in a wider sense to the artificial intelligence field.\n",
    "\n",
    " <br> source:https://en.wikipedia.org/wiki/Latent_Dirichlet_allocation"
   ]
  },
  {
   "cell_type": "code",
   "execution_count": 7,
   "metadata": {},
   "outputs": [
    {
     "data": {
      "text/html": [
       "<img src=\"https://miro.medium.com/max/1276/0*Sj65xR38wDwuxhtr.jpg\" width=\"800\" height=\"800\"/>"
      ],
      "text/plain": [
       "<IPython.core.display.Image object>"
      ]
     },
     "execution_count": 7,
     "metadata": {},
     "output_type": "execute_result"
    }
   ],
   "source": [
    "Image(url='https://miro.medium.com/max/1276/0*Sj65xR38wDwuxhtr.jpg', width=800, height=800)"
   ]
  },
  {
   "cell_type": "markdown",
   "metadata": {},
   "source": [
    " Topic modeling will be done by using latent Dirichlet allocation (LDA). This is a generative statistical model that allows to explain phrases by sharing topics."
   ]
  },
  {
   "cell_type": "code",
   "execution_count": 8,
   "metadata": {
    "scrolled": false
   },
   "outputs": [],
   "source": [
    "list = [] # create empty list for corpora.Dictionary\n",
    "\n",
    "for i in range(X.shape[0]):\n",
    "    list.append(df_En[\"text_lemmatization\"][i].split()) # dictionary\n",
    "    \n",
    "dictionary = corpora.Dictionary(list)\n",
    "corpus = [dictionary.doc2bow(sentence) for sentence in list]"
   ]
  },
  {
   "attachments": {
    "image.png": {
     "image/png": "[encoded data removed]"
    }
   },
   "cell_type": "markdown",
   "metadata": {},
   "source": [
    "API reference for lda.print_topic:\n",
    "![image.png](attachment:image.png)"
   ]
  },
  {
   "cell_type": "code",
   "execution_count": 9,
   "metadata": {},
   "outputs": [
    {
     "name": "stdout",
     "output_type": "stream",
     "text": [
      "Topic of cluster 0:\n",
      "0.071*\"client\" + 0.024*\"team\" + 0.019*\"refresh\" + 0.014*\"customer\" + 0.012*\"date\" + 0.012*\"university\" + 0.012*\"issue\" + 0.011*\"provision\" + 0.011*\"erpsim\" + 0.011*\"email\"\n",
      "Topic of cluster 1:\n",
      "0.031*\"student\" + 0.017*\"user\" + 0.012*\"create\" + 0.010*\"domain\" + 0.010*\"team\" + 0.009*\"message\" + 0.009*\"time\" + 0.008*\"client\" + 0.008*\"issue\" + 0.008*\"university\"\n",
      "Topic of cluster 2:\n",
      "0.010*\"student\" + 0.009*\"try\" + 0.009*\"access\" + 0.009*\"user\" + 0.008*\"find\" + 0.008*\"gui\" + 0.007*\"round\" + 0.007*\"issue\" + 0.007*\"client\" + 0.007*\"password\"\n",
      "Topic of cluster 3:\n",
      "0.019*\"ushell\" + 0.015*\"domain\" + 0.013*\"resource\" + 0.012*\"client\" + 0.011*\"student\" + 0.011*\"erpsim\" + 0.009*\"game\" + 0.009*\"team\" + 0.009*\"ui5\" + 0.008*\"access\"\n",
      "Topic of cluster 4:\n",
      "0.049*\"client\" + 0.030*\"university\" + 0.026*\"contract\" + 0.025*\"gbi\" + 0.024*\"team\" + 0.020*\"hana\" + 0.019*\"date\" + 0.015*\"request\" + 0.014*\"user\" + 0.013*\"access\"\n",
      "Topic of cluster 5:\n",
      "0.016*\"datum\" + 0.014*\"user\" + 0.014*\"student\" + 0.014*\"service\" + 0.013*\"create\" + 0.012*\"•\" + 0.011*\"access\" + 0.009*\"good\" + 0.009*\"client\" + 0.008*\"morning\"\n",
      "Topic of cluster 6:\n",
      "0.027*\"client\" + 0.027*\"hana\" + 0.014*\"student\" + 0.013*\"gbi\" + 0.010*\"team\" + 0.010*\"access\" + 0.009*\"domain\" + 0.009*\"case\" + 0.008*\"study\" + 0.008*\"server\"\n"
     ]
    }
   ],
   "source": [
    "num_topics = 7 # number of topics\n",
    "\n",
    "lda = gensim.models.ldamodel.LdaModel(corpus = corpus, id2word = dictionary, num_topics = num_topics)\n",
    "\n",
    "for i in range(num_topics):\n",
    "    print(\"Topic of cluster \"+ str(i)+':\\n'+lda.print_topic(i,topn = 10))"
   ]
  },
  {
   "cell_type": "markdown",
   "metadata": {},
   "source": [
    "# German Data"
   ]
  },
  {
   "cell_type": "code",
   "execution_count": 10,
   "metadata": {},
   "outputs": [
    {
     "data": {
      "text/plain": [
       "(3877, 1000)"
      ]
     },
     "execution_count": 10,
     "metadata": {},
     "output_type": "execute_result"
    }
   ],
   "source": [
    "vectorizer = TfidfVectorizer(max_features= 1000,max_df = 0.5, smooth_idf=True)\n",
    "\n",
    "X_De = vectorizer.fit_transform(df_De[\"text_lemmatization\"])\n",
    "\n",
    "X_De.shape # check shape of the document-term matrix"
   ]
  },
  {
   "cell_type": "code",
   "execution_count": 11,
   "metadata": {},
   "outputs": [],
   "source": [
    "list = [] # create empty list for corpora.Dictionary\n",
    "\n",
    "for i in range(X_De.shape[0]):\n",
    "    list.append(df_De[\"text_lemmatization\"][i].split()) # dictionary\n",
    "    \n",
    "dictionary = corpora.Dictionary(list)\n",
    "corpus = [dictionary.doc2bow(sentence) for sentence in list]"
   ]
  },
  {
   "cell_type": "code",
   "execution_count": 12,
   "metadata": {},
   "outputs": [
    {
     "name": "stdout",
     "output_type": "stream",
     "text": [
      "Topic of cluster 0:\n",
      "0.019*\"ui5\" + 0.018*\"domain\" + 0.017*\"user\" + 0.016*\"ushell\" + 0.010*\"bc\" + 0.009*\"ui2\" + 0.008*\"meldung\" + 0.008*\"kommen\" + 0.008*\"fehlermeldung\" + 0.007*\"folgend\"\n",
      "Topic of cluster 1:\n",
      "0.030*\"mandanten\" + 0.016*\"mandant\" + 0.011*\"gbi\" + 0.009*\"zurücksetzen\" + 0.009*\"gut\" + 0.008*\"mögen\" + 0.008*\"können\" + 0.007*\"anlegen\" + 0.007*\"fehler\" + 0.006*\"bitten\"\n",
      "Topic of cluster 2:\n",
      "0.014*\"user\" + 0.014*\"gbi\" + 0.011*\"hana\" + 0.011*\"mandanten\" + 0.010*\"team\" + 0.010*\"gut\" + 0.008*\"werden\" + 0.007*\"mögen\" + 0.006*\"neu\" + 0.005*\"anlegen\"\n",
      "Topic of cluster 3:\n",
      "0.014*\"team\" + 0.013*\"domain\" + 0.009*\"hana\" + 0.008*\"user\" + 0.008*\"folgend\" + 0.007*\"mandant\" + 0.007*\"java\" + 0.007*\"mandanten\" + 0.006*\"erp\" + 0.006*\"passwort\"\n",
      "Topic of cluster 4:\n",
      "0.018*\"domain\" + 0.008*\"hana\" + 0.008*\"email\" + 0.008*\"team\" + 0.007*\"gut\" + 0.006*\"gui\" + 0.006*\"installation\" + 0.006*\"zugreifen\" + 0.006*\"hochschule\" + 0.006*\"service\"\n",
      "Topic of cluster 5:\n",
      "0.010*\"neu\" + 0.010*\"hana\" + 0.008*\"fragen\" + 0.007*\"mandanten\" + 0.006*\"gui\" + 0.006*\"server\" + 0.006*\"können\" + 0.006*\"team\" + 0.005*\"verwenden\" + 0.005*\"immer\"\n",
      "Topic of cluster 6:\n",
      "0.010*\"team\" + 0.008*\"fehlermeldung\" + 0.007*\"domain\" + 0.006*\"gui\" + 0.006*\"finden\" + 0.006*\"werden\" + 0.006*\"remote\" + 0.005*\"version\" + 0.005*\"stehen\" + 0.005*\"folgend\"\n"
     ]
    }
   ],
   "source": [
    "lda_de = gensim.models.ldamodel.LdaModel(corpus = corpus, id2word = dictionary, num_topics = num_topics)\n",
    "\n",
    "for i in range(num_topics):\n",
    "    print(\"Topic of cluster \"+ str(i)+':\\n'+lda_de.print_topic(i,topn = 10))"
   ]
  },
  {
   "cell_type": "code",
   "execution_count": null,
   "metadata": {},
   "outputs": [],
   "source": []
  }
 ],
 "metadata": {
  "kernelspec": {
   "display_name": "Python 3",
   "language": "python",
   "name": "python3"
  },
  "language_info": {
   "codemirror_mode": {
    "name": "ipython",
    "version": 3
   },
   "file_extension": ".py",
   "mimetype": "text/x-python",
   "name": "python",
   "nbconvert_exporter": "python",
   "pygments_lexer": "ipython3",
   "version": "3.8.8"
  },
  "toc": {
   "base_numbering": 1,
   "nav_menu": {},
   "number_sections": true,
   "sideBar": true,
   "skip_h1_title": false,
   "title_cell": "Table of Contents",
   "title_sidebar": "Contents",
   "toc_cell": false,
   "toc_position": {},
   "toc_section_display": true,
   "toc_window_display": false
  }
 },
 "nbformat": 4,
 "nbformat_minor": 4
}
